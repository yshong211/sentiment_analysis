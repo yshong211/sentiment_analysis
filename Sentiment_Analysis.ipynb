{
 "cells": [
  {
   "cell_type": "code",
   "execution_count": 165,
   "id": "27df18e5",
   "metadata": {},
   "outputs": [],
   "source": [
    "import pandas as pd\n",
    "import os\n",
    "import glob\n",
    "import re"
   ]
  },
  {
   "cell_type": "markdown",
   "id": "70f696ed",
   "metadata": {},
   "source": [
    "### Data Preprocessing"
   ]
  },
  {
   "cell_type": "markdown",
   "id": "6b4cf4aa",
   "metadata": {},
   "source": [
    "Create dictionary named vocab_er which has word as a key from imdb.vocab and corresponding estimated ratings earned from imdbEr.txt as a value"
   ]
  },
  {
   "cell_type": "code",
   "execution_count": 166,
   "id": "1fa6e346",
   "metadata": {},
   "outputs": [],
   "source": [
    "vocab_er = {}\n",
    "vocab = []\n",
    "er = []"
   ]
  },
  {
   "cell_type": "code",
   "execution_count": 167,
   "id": "0fea733b",
   "metadata": {},
   "outputs": [],
   "source": [
    "with open('/Users/bradyhong/Downloads/aclImdb 2/imdb.vocab', 'r') as f:\n",
    "    for i in f.readlines():\n",
    "        vocab.append(i.strip())\n",
    "with open('/Users/bradyhong/Downloads/aclImdb 2/imdbEr.txt', 'r') as a:\n",
    "    for j in a.readlines():\n",
    "        er.append(j.strip())"
   ]
  },
  {
   "cell_type": "code",
   "execution_count": 67,
   "id": "fc027718",
   "metadata": {},
   "outputs": [],
   "source": [
    "for l in range(len(vocab)):\n",
    "    vocab_er[vocab[l]] = er[l]"
   ]
  },
  {
   "cell_type": "code",
   "execution_count": 68,
   "id": "359b81dc",
   "metadata": {},
   "outputs": [],
   "source": [
    "train = pd.DataFrame()\n",
    "test = pd.DataFrame()"
   ]
  },
  {
   "cell_type": "code",
   "execution_count": 69,
   "id": "fe0d29c4",
   "metadata": {},
   "outputs": [],
   "source": [
    "def loopAllFiles(directory):\n",
    "    # loop through all txt files in directory\n",
    "    extension = 'txt'\n",
    "    os.chdir(directory)\n",
    "    result = glob.glob('*.{}'.format(extension))\n",
    "    return result"
   ]
  },
  {
   "cell_type": "code",
   "execution_count": 70,
   "id": "95d04fd7",
   "metadata": {},
   "outputs": [],
   "source": [
    "review = []\n",
    "rating = []\n",
    "# fills out sentiment first half with 1 and second half with 0 \n",
    "# since first 12500 data is positive reviews and last 12500 data is negative reviews\n",
    "sentiment = [1 for num in range(12500)]\n",
    "for i in range(12500):\n",
    "    sentiment.append(0)"
   ]
  },
  {
   "cell_type": "code",
   "execution_count": 71,
   "id": "eace01e4",
   "metadata": {},
   "outputs": [],
   "source": [
    "# Walks through the files and extract all the reviews and rating of the reviews\n",
    "def walks_dirs(file_path):\n",
    "    txt_file = loopAllFiles('/Users/bradyhong/Downloads/aclImdb 2/'+file_path)\n",
    "    txt_file = (sorted(txt_file, key=lambda x: int(re.split('_|\\.', x)[0])))\n",
    "    for i in txt_file:\n",
    "        rating.append(re.split('_|\\.', i)[1])\n",
    "        with open('/Users/bradyhong/Downloads/aclImdb 2/'+file_path+'/'+i, 'r') as f:\n",
    "            review.append(f.read())"
   ]
  },
  {
   "cell_type": "markdown",
   "id": "6e0ec8db",
   "metadata": {},
   "source": [
    "Fills out train and test pandas dataframe with review, sentiment, and Rating feature"
   ]
  },
  {
   "cell_type": "code",
   "execution_count": 72,
   "id": "24fd6c34",
   "metadata": {},
   "outputs": [],
   "source": [
    "walks_dirs('train/pos')\n",
    "walks_dirs('train/neg')\n",
    "train['Review'] = review\n",
    "train['Sentiment'] = sentiment\n",
    "train['Rating'] = rating"
   ]
  },
  {
   "cell_type": "code",
   "execution_count": 73,
   "id": "d86eaad1",
   "metadata": {},
   "outputs": [],
   "source": [
    "review = []\n",
    "rating = []\n",
    "walks_dirs('test/pos')\n",
    "walks_dirs('test/neg')\n",
    "test['Review'] = review\n",
    "test['Sentiment'] = sentiment\n",
    "test['Rating'] = rating"
   ]
  },
  {
   "cell_type": "markdown",
   "id": "1861cbcf",
   "metadata": {},
   "source": [
    "### Calculate the polarity score"
   ]
  },
  {
   "cell_type": "markdown",
   "id": "3932ef88",
   "metadata": {},
   "source": [
    "Calculating the estimated polarity of each post by multiplying each word's polarity with frequency of the word for each word"
   ]
  },
  {
   "cell_type": "code",
   "execution_count": null,
   "id": "88d1a733",
   "metadata": {},
   "outputs": [],
   "source": [
    "def calculate(train_or_test):\n",
    "    file_path = '/Users/bradyhong/Downloads/aclImdb 2/'+train_or_test+'/labeledBow.feat'\n",
    "    with open(file_path, 'r') as b:\n",
    "        rate = []\n",
    "        calculation = []\n",
    "        for j in b.readlines():  \n",
    "            cal = re.split(' |:|\\n', j)\n",
    "            rate.append(cal[0])\n",
    "            cal = cal[1:]\n",
    "            new_cal = 0\n",
    "            for i in range(len(cal)):\n",
    "                new_cal += float(vocab_er[vocab[int(cal[(i*2)])]]) * float(cal[(i*2)+1])\n",
    "                if cal[(i*2)+2] == '':\n",
    "                    calculation.append(new_cal)\n",
    "                    break\n",
    "    if train_or_test == 'train':\n",
    "        train['calculation'] = calculation\n",
    "    else:\n",
    "        test['calculation'] = calculation"
   ]
  },
  {
   "cell_type": "code",
   "execution_count": null,
   "id": "ba0c832c",
   "metadata": {},
   "outputs": [],
   "source": [
    "calculate('train')\n",
    "calculate('test')"
   ]
  },
  {
   "cell_type": "markdown",
   "id": "5f187636",
   "metadata": {},
   "source": [
    "### Highest 10 estimated rating word and Lowest 10 estimated rating polarity word"
   ]
  },
  {
   "cell_type": "code",
   "execution_count": 159,
   "id": "e78817ad",
   "metadata": {},
   "outputs": [],
   "source": [
    "import operator \n",
    "top_10 = dict(sorted(vocab_er.items(), key = operator.itemgetter(1), reverse = True)[:10])\n",
    "low_10 = dict(sorted(vocab_er.items(), key = operator.itemgetter(1))[:10])"
   ]
  },
  {
   "cell_type": "code",
   "execution_count": 160,
   "id": "8dc5be6e",
   "metadata": {},
   "outputs": [
    {
     "data": {
      "text/plain": [
       "{'xica': '4.5',\n",
       " 'filone': '4.5',\n",
       " 'bazza': '4.5',\n",
       " 'alekos': '4.5',\n",
       " 'riedelsheimer': '4.5',\n",
       " 'citizenx': '4.5',\n",
       " 'telemundo': '4.5',\n",
       " 'machi': '4.5',\n",
       " 'englebert': '4.5',\n",
       " 'horstachio': '4.5'}"
      ]
     },
     "execution_count": 160,
     "metadata": {},
     "output_type": "execute_result"
    }
   ],
   "source": [
    "top_10"
   ]
  },
  {
   "cell_type": "code",
   "execution_count": 161,
   "id": "f9b24de7",
   "metadata": {},
   "outputs": [
    {
     "data": {
      "text/plain": [
       "{'side-effects': '-0.00011528953742',\n",
       " 'cleared': '-0.000127990731132',\n",
       " 'sprang': '-0.000131026317304',\n",
       " 'found': '-0.000144238307082',\n",
       " 'upgrade': '-0.000227547963041',\n",
       " 'notice': '-0.000266495726775',\n",
       " 'frantically': '-0.000295770477084',\n",
       " 'disembodied': '-0.000304782306461',\n",
       " 'legion': '-0.000332890295048',\n",
       " 'copy': '-0.000340251143812'}"
      ]
     },
     "execution_count": 161,
     "metadata": {},
     "output_type": "execute_result"
    }
   ],
   "source": [
    "low_10"
   ]
  },
  {
   "cell_type": "markdown",
   "id": "5210bb6c",
   "metadata": {},
   "source": [
    "### EDA of Rating of the movie review"
   ]
  },
  {
   "cell_type": "code",
   "execution_count": 74,
   "id": "783dded7",
   "metadata": {},
   "outputs": [],
   "source": [
    "int_rating = train['Rating'].astype(int)"
   ]
  },
  {
   "cell_type": "code",
   "execution_count": 140,
   "id": "ff72efe7",
   "metadata": {},
   "outputs": [
    {
     "data": {
      "text/html": [
       "<div>\n",
       "<style scoped>\n",
       "    .dataframe tbody tr th:only-of-type {\n",
       "        vertical-align: middle;\n",
       "    }\n",
       "\n",
       "    .dataframe tbody tr th {\n",
       "        vertical-align: top;\n",
       "    }\n",
       "\n",
       "    .dataframe thead th {\n",
       "        text-align: right;\n",
       "    }\n",
       "</style>\n",
       "<table border=\"1\" class=\"dataframe\">\n",
       "  <thead>\n",
       "    <tr style=\"text-align: right;\">\n",
       "      <th></th>\n",
       "      <th>Rating</th>\n",
       "    </tr>\n",
       "  </thead>\n",
       "  <tbody>\n",
       "    <tr>\n",
       "      <th>count</th>\n",
       "      <td>25000.000000</td>\n",
       "    </tr>\n",
       "    <tr>\n",
       "      <th>mean</th>\n",
       "      <td>5.477720</td>\n",
       "    </tr>\n",
       "    <tr>\n",
       "      <th>std</th>\n",
       "      <td>3.466477</td>\n",
       "    </tr>\n",
       "    <tr>\n",
       "      <th>min</th>\n",
       "      <td>1.000000</td>\n",
       "    </tr>\n",
       "    <tr>\n",
       "      <th>25%</th>\n",
       "      <td>2.000000</td>\n",
       "    </tr>\n",
       "    <tr>\n",
       "      <th>50%</th>\n",
       "      <td>5.500000</td>\n",
       "    </tr>\n",
       "    <tr>\n",
       "      <th>75%</th>\n",
       "      <td>9.000000</td>\n",
       "    </tr>\n",
       "    <tr>\n",
       "      <th>max</th>\n",
       "      <td>10.000000</td>\n",
       "    </tr>\n",
       "  </tbody>\n",
       "</table>\n",
       "</div>"
      ],
      "text/plain": [
       "             Rating\n",
       "count  25000.000000\n",
       "mean       5.477720\n",
       "std        3.466477\n",
       "min        1.000000\n",
       "25%        2.000000\n",
       "50%        5.500000\n",
       "75%        9.000000\n",
       "max       10.000000"
      ]
     },
     "execution_count": 140,
     "metadata": {},
     "output_type": "execute_result"
    }
   ],
   "source": [
    "pd.DataFrame(int_rating.describe())"
   ]
  },
  {
   "cell_type": "code",
   "execution_count": 141,
   "id": "b20fb715",
   "metadata": {},
   "outputs": [
    {
     "data": {
      "text/html": [
       "<div>\n",
       "<style scoped>\n",
       "    .dataframe tbody tr th:only-of-type {\n",
       "        vertical-align: middle;\n",
       "    }\n",
       "\n",
       "    .dataframe tbody tr th {\n",
       "        vertical-align: top;\n",
       "    }\n",
       "\n",
       "    .dataframe thead th {\n",
       "        text-align: right;\n",
       "    }\n",
       "</style>\n",
       "<table border=\"1\" class=\"dataframe\">\n",
       "  <thead>\n",
       "    <tr style=\"text-align: right;\">\n",
       "      <th></th>\n",
       "      <th>Rating</th>\n",
       "    </tr>\n",
       "  </thead>\n",
       "  <tbody>\n",
       "    <tr>\n",
       "      <th>count</th>\n",
       "      <td>25000.000000</td>\n",
       "    </tr>\n",
       "    <tr>\n",
       "      <th>mean</th>\n",
       "      <td>5.512960</td>\n",
       "    </tr>\n",
       "    <tr>\n",
       "      <th>std</th>\n",
       "      <td>3.490902</td>\n",
       "    </tr>\n",
       "    <tr>\n",
       "      <th>min</th>\n",
       "      <td>1.000000</td>\n",
       "    </tr>\n",
       "    <tr>\n",
       "      <th>25%</th>\n",
       "      <td>2.000000</td>\n",
       "    </tr>\n",
       "    <tr>\n",
       "      <th>50%</th>\n",
       "      <td>5.500000</td>\n",
       "    </tr>\n",
       "    <tr>\n",
       "      <th>75%</th>\n",
       "      <td>9.000000</td>\n",
       "    </tr>\n",
       "    <tr>\n",
       "      <th>max</th>\n",
       "      <td>10.000000</td>\n",
       "    </tr>\n",
       "  </tbody>\n",
       "</table>\n",
       "</div>"
      ],
      "text/plain": [
       "             Rating\n",
       "count  25000.000000\n",
       "mean       5.512960\n",
       "std        3.490902\n",
       "min        1.000000\n",
       "25%        2.000000\n",
       "50%        5.500000\n",
       "75%        9.000000\n",
       "max       10.000000"
      ]
     },
     "execution_count": 141,
     "metadata": {},
     "output_type": "execute_result"
    }
   ],
   "source": [
    "pd.DataFrame(test['Rating'].astype(int).describe())"
   ]
  },
  {
   "cell_type": "code",
   "execution_count": 117,
   "id": "da3b4f2b",
   "metadata": {},
   "outputs": [],
   "source": [
    "train_count = list(int_rating.value_counts().sort_index(ascending=True))"
   ]
  },
  {
   "cell_type": "code",
   "execution_count": 118,
   "id": "eb351828",
   "metadata": {},
   "outputs": [],
   "source": [
    "test_count = list(test['Rating'].astype(int).value_counts().sort_index(ascending=True))"
   ]
  },
  {
   "cell_type": "code",
   "execution_count": 152,
   "id": "083b83ea",
   "metadata": {},
   "outputs": [],
   "source": [
    "total_count = []\n",
    "for i in range(8):\n",
    "    total_count.append(train_count[i]+test_count[i])"
   ]
  },
  {
   "cell_type": "code",
   "execution_count": 139,
   "id": "e0849290",
   "metadata": {},
   "outputs": [
    {
     "data": {
      "image/png": "[encoded data removed]",
      "text/plain": [
       "<Figure size 864x576 with 1 Axes>"
      ]
     },
     "metadata": {
      "needs_background": "light"
     },
     "output_type": "display_data"
    }
   ],
   "source": [
    "import seaborn as sns\n",
    "plt.figure(figsize = (12,8))\n",
    "sns.barplot(x=[1,2,3,4,7,8,9,10], y=total_count)\n",
    "plt.title('Rating count for each ratings',fontsize = 30)\n",
    "plt.xlabel('Rating', fontsize=20)\n",
    "plt.ylabel('Total Count', fontsize=20)\n",
    "plt.show()"
   ]
  },
  {
   "cell_type": "markdown",
   "id": "7db02294",
   "metadata": {},
   "source": [
    "### Choose train and test values to run the model"
   ]
  },
  {
   "cell_type": "code",
   "execution_count": 35,
   "id": "97735f04",
   "metadata": {},
   "outputs": [],
   "source": [
    "X_train = train.drop(['Rating', 'Sentiment', 'Review'], axis=1)"
   ]
  },
  {
   "cell_type": "code",
   "execution_count": 36,
   "id": "f391f3f2",
   "metadata": {},
   "outputs": [],
   "source": [
    "y_train = train['Sentiment']"
   ]
  },
  {
   "cell_type": "code",
   "execution_count": 37,
   "id": "fec4d9c7",
   "metadata": {},
   "outputs": [],
   "source": [
    "X_test = test.drop(['Rating', 'Sentiment', 'Review'], axis=1)"
   ]
  },
  {
   "cell_type": "code",
   "execution_count": 38,
   "id": "78633654",
   "metadata": {},
   "outputs": [],
   "source": [
    "y_test = test['Sentiment']"
   ]
  },
  {
   "cell_type": "markdown",
   "id": "1ab613b3",
   "metadata": {},
   "source": [
    "### Predict the outcome by using Support Vector Machine"
   ]
  },
  {
   "cell_type": "code",
   "execution_count": 45,
   "id": "bd621130",
   "metadata": {},
   "outputs": [],
   "source": [
    "from sklearn import svm\n",
    "clf = svm.SVC(kernel = 'linear')\n",
    "clf.fit(X_train, y_train)\n",
    "y_pred = clf.predict(X_test)"
   ]
  },
  {
   "cell_type": "code",
   "execution_count": 46,
   "id": "53b1d7bf",
   "metadata": {},
   "outputs": [
    {
     "name": "stdout",
     "output_type": "stream",
     "text": [
      "ACCURACY OF THE MODEL:  0.83676\n"
     ]
    }
   ],
   "source": [
    "from sklearn import metrics  \n",
    "print(\"ACCURACY OF THE MODEL: \", metrics.accuracy_score(y_test, y_pred))"
   ]
  }
 ],
 "metadata": {
  "kernelspec": {
   "display_name": "Python 3 (ipykernel)",
   "language": "python",
   "name": "python3"
  },
  "language_info": {
   "codemirror_mode": {
    "name": "ipython",
    "version": 3
   },
   "file_extension": ".py",
   "mimetype": "text/x-python",
   "name": "python",
   "nbconvert_exporter": "python",
   "pygments_lexer": "ipython3",
   "version": "3.7.8"
  }
 },
 "nbformat": 4,
 "nbformat_minor": 5
}
